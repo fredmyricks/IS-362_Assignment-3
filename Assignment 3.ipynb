{
 "cells": [
  {
   "cell_type": "code",
   "execution_count": 1,
   "id": "initial_id",
   "metadata": {
    "collapsed": true,
    "ExecuteTime": {
     "end_time": "2024-02-03T18:23:38.114533700Z",
     "start_time": "2024-02-03T18:23:37.288109300Z"
    }
   },
   "outputs": [
    {
     "data": {
      "text/plain": "   Cumulative Miles  Miles Ridden Each Day\n0                55                   55.0\n1               120                   65.0\n2               200                   80.0\n3               275                   75.0\n4               340                   65.0",
      "text/html": "<div>\n<style scoped>\n    .dataframe tbody tr th:only-of-type {\n        vertical-align: middle;\n    }\n\n    .dataframe tbody tr th {\n        vertical-align: top;\n    }\n\n    .dataframe thead th {\n        text-align: right;\n    }\n</style>\n<table border=\"1\" class=\"dataframe\">\n  <thead>\n    <tr style=\"text-align: right;\">\n      <th></th>\n      <th>Cumulative Miles</th>\n      <th>Miles Ridden Each Day</th>\n    </tr>\n  </thead>\n  <tbody>\n    <tr>\n      <th>0</th>\n      <td>55</td>\n      <td>55.0</td>\n    </tr>\n    <tr>\n      <th>1</th>\n      <td>120</td>\n      <td>65.0</td>\n    </tr>\n    <tr>\n      <th>2</th>\n      <td>200</td>\n      <td>80.0</td>\n    </tr>\n    <tr>\n      <th>3</th>\n      <td>275</td>\n      <td>75.0</td>\n    </tr>\n    <tr>\n      <th>4</th>\n      <td>340</td>\n      <td>65.0</td>\n    </tr>\n  </tbody>\n</table>\n</div>"
     },
     "execution_count": 1,
     "metadata": {},
     "output_type": "execute_result"
    }
   ],
   "source": [
    "import pandas as pd\n",
    "\n",
    "# Sample data (replace with your actual data)\n",
    "odometer_readings = [55, 120, 200, 275, 340]\n",
    "\n",
    "# Create a pandas Series for cumulative miles\n",
    "cumulative_miles = pd.Series(odometer_readings, name='Cumulative Miles')\n",
    "\n",
    "# Calculate miles ridden each day\n",
    "miles_ridden_each_day = cumulative_miles.diff().fillna(cumulative_miles.iloc[0])\n",
    "\n",
    "# Combine the two Series into a DataFrame for better presentation\n",
    "mileage_df = pd.DataFrame({'Cumulative Miles': cumulative_miles, 'Miles Ridden Each Day': miles_ridden_each_day})\n",
    "\n",
    "# Display the DataFrame\n",
    "mileage_df\n"
   ]
  },
  {
   "cell_type": "code",
   "outputs": [
    {
     "name": "stdout",
     "output_type": "stream",
     "text": [
      "   Cumulative Miles  Miles Each Day\n",
      "0                55              55\n",
      "1               120              65\n",
      "2               150              30\n",
      "3               210              60\n",
      "4               287              77\n",
      "5               300              13\n"
     ]
    }
   ],
   "source": [
    "# Import pandas and numpy\n",
    "import pandas as pd\n",
    "import numpy as np\n",
    "\n",
    "# Create a numpy array to store the cumulative miles\n",
    "cumulative_miles = np.array([55, 120, 150, 210, 287, 300])\n",
    "\n",
    "# Convert it into a pandas Series\n",
    "cumulative_series = pd.Series(cumulative_miles, name='Cumulative Miles')\n",
    "\n",
    "# Create another array to store the miles covered each day\n",
    "# The first day's mile will be the same as the cumulative miles\n",
    "miles_each_day = np.array([cumulative_series.iloc[0]])\n",
    "\n",
    "# Iterate through the series to calculate miles covered each day\n",
    "for i in range(1, len(cumulative_series)):\n",
    "    # Miles for the current day will be cumulative miles till that day - previous day's mile\n",
    "    miles_each_day = np.append(miles_each_day, cumulative_series.iloc[i] - cumulative_series.iloc[i - 1])\n",
    "\n",
    "# Convert the new array into a pandas Series\n",
    "each_day_series = pd.Series(miles_each_day, name='Miles Each Day')\n",
    "\n",
    "# Display the cumulative and each day miles in a DataFrame\n",
    "mileage_df = pd.DataFrame({'Cumulative Miles': cumulative_series, 'Miles Each Day': each_day_series})\n",
    "\n",
    "# Display the DataFrame\n",
    "print(mileage_df)\n"
   ],
   "metadata": {
    "collapsed": false,
    "ExecuteTime": {
     "end_time": "2024-02-03T18:27:16.199811800Z",
     "start_time": "2024-02-03T18:27:16.180131700Z"
    }
   },
   "id": "81ef7c63bea0b342",
   "execution_count": 2
  },
  {
   "cell_type": "code",
   "outputs": [],
   "source": [],
   "metadata": {
    "collapsed": false
   },
   "id": "94a865c1e0b70dd8"
  }
 ],
 "metadata": {
  "kernelspec": {
   "display_name": "Python 3",
   "language": "python",
   "name": "python3"
  },
  "language_info": {
   "codemirror_mode": {
    "name": "ipython",
    "version": 2
   },
   "file_extension": ".py",
   "mimetype": "text/x-python",
   "name": "python",
   "nbconvert_exporter": "python",
   "pygments_lexer": "ipython2",
   "version": "2.7.6"
  }
 },
 "nbformat": 4,
 "nbformat_minor": 5
}
