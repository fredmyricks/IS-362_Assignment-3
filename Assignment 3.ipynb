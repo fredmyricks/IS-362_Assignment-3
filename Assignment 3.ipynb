import pandas as pd

# Sample data (replace with your actual data)
odometer_readings = [55, 120, 200, 275, 340]

# Create a pandas Series for cumulative miles
cumulative_miles = pd.Series(odometer_readings, name='Cumulative Miles')

# Calculate miles ridden each day
miles_ridden_each_day = cumulative_miles.diff().fillna(cumulative_miles.iloc[0])

# Combine the two Series into a DataFrame for better presentation
mileage_df = pd.DataFrame({'Cumulative Miles': cumulative_miles, 'Miles Ridden Each Day': miles_ridden_each_day})

# Display the DataFrame
mileage_df


#########################################

# Import pandas and numpy
import pandas as pd
import numpy as np

# Create a numpy array to store the cumulative miles
cumulative_miles = np.array([55, 120, 150, 210, 287, 300])

# Convert it into a pandas Series
cumulative_series = pd.Series(cumulative_miles, name='Cumulative Miles')

# Create another array to store the miles covered each day
# The first day's mile will be the same as the cumulative miles
miles_each_day = np.array([cumulative_series.iloc[0]])

# Iterate through the series to calculate miles covered each day
for i in range(1, len(cumulative_series)):
    # Miles for the current day will be cumulative miles till that day - previous day's mile
    miles_each_day = np.append(miles_each_day, cumulative_series.iloc[i] - cumulative_series.iloc[i - 1])

# Convert the new array into a pandas Series
each_day_series = pd.Series(miles_each_day, name='Miles Each Day')

# Display the cumulative and each day miles in a DataFrame
mileage_df = pd.DataFrame({'Cumulative Miles': cumulative_series, 'Miles Each Day': each_day_series})

# Display the DataFrame
print(mileage_df)
